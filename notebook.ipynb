{
 "cells": [
  {
   "cell_type": "markdown",
   "metadata": {},
   "source": [
    "# Notebook  \n",
    "確率のお勉強ノート。  \n",
    "ついでにmarkdownとかLatexの練習も。  \n",
    "基本的に参考にしたスライドの中身を書きならべたものです。  \n",
    "Monte calro localizationを理解したいだけなら教材その2から。"
   ]
  },
  {
   "cell_type": "markdown",
   "metadata": {},
   "source": [
    "### 教材その１  \n",
    "[確率ロボティクス入門第１回](https://www.slideshare.net/ryuichiueda/robot-frontier-lesson1)  \n",
    "### 確率の表記の基本[P14]\n",
    "#### 離散的な場合\n",
    "\n",
    "|数学的表記|意味|\n",
    "|:-:|:--|\n",
    "|$P($条件$)$|ある条件が満たされる確率|  \n",
    "|$P(\\hat x=x^*)$| ある変数$x$について、推定値$\\hat x$が真値$x^*$と一致している確率|  \n",
    "|$P(x^* \\in X)$|真値$x^*$がある集合$X$に含まれる確率|\n",
    "|$P(x)$|変数$x$に関する確率分布|\n",
    "\n",
    "#### 連続的な場合\n",
    "値ごとの確率を関数にした、確率密度関数(probability density function, pdf)を用いる。  \n",
    "正規分布曲線とかよく見ると思う。\n",
    "\n",
    "* 連続ということは無限に値を持つことになるため、推定値$\\hat x$と真値$x^*$がピタリと一致する確率は0になる。  \n",
    "\n",
    "$$\n",
    "\\\\P(\\hat x=x^*) = 0\n",
    "$$\n",
    "\n",
    "* 真値$x^*$が、領域$X$の中にある確率は、面積で考えることができる。  \n",
    "\n",
    "$$\n",
    "\\\\P(x^* \\in X) = \\int_{x \\in X} p(x)dx\n",
    "$$\n",
    "\n",
    "* $x$における全ての領域のどこかに真値$x^*$がある確率は1になる。\n",
    "\n",
    "$$\n",
    "P(x^* \\in x) = \\int p(x) dx = 1\n",
    "$$\n",
    "#### 条件付き確率\n",
    "Bが観測されたとき、それがAである確率。  \n",
    "109が見えたら渋谷である確率とか。  \n",
    "<br />\n",
    "<div style=\"text-align: center;\">\n",
    "$P(A | B)$ :  条件付き確率\n",
    "</div>\n",
    "<div style=\"text-align: center;\">\n",
    "$p(A | B)$ : 条件付き確率密度関数\n",
    "</div>"
   ]
  },
  {
   "cell_type": "markdown",
   "metadata": {},
   "source": [
    "### 移動モデル[P20]\n",
    "<br />\n",
    "<div style=\"text-align: center;\">\n",
    "$p(x_t | x_{t-1} , a_t)$ : 時刻$t-1$の時、行動$a_t$を実行すると、状態が$x_{t-1}$から$x_t$に変化する確率\n",
    "</div>\n",
    "\n",
    "例えば0m地点から1歩進むと、0.5m地点にいる確率みたいな。  \n",
    "出発地点、1歩の幅、到着地点はそれぞれ分布や偏りを持っているので、確率密度関数で表現ができる。  \n",
    "なので次のようなステップをふむ。  \n",
    "<br />\n",
    "<div style=\"text-align: center;\">\n",
    "$p_{t-1}(x)$ → $p(x_t | x_{t-1} , a_t)$ → $p_t(x)$\n",
    "</div>\n",
    "\n",
    "* このステップの数式を、マルコフ連鎖の式という。\n",
    "* 空間$\\chi$はロボットが取りうる状態$x$の集合\n",
    "\n",
    "$$\n",
    "\\\\p_t(x) = \\int_{x' \\in \\chi } p(x|x',a_t)p_{t-1}(x')dx'\n",
    "$$\n",
    "\n",
    "* 離散の場合\n",
    "\n",
    "$$\n",
    "P_t(X) = \\sum_{ X' \\in \\chi }P(X | X', a_t)P_{t-1}(X')\n",
    "$$\n",
    "\n"
   ]
  },
  {
   "cell_type": "markdown",
   "metadata": {},
   "source": [
    "### 観測モデル[P25]\n",
    "<br />\n",
    "<div style=\"text-align: center;\">\n",
    "$p(z|x)$ : ロボットの状態$x$の時、$z$が観測される確率密度関数\n",
    "</div>\n",
    "\n",
    "例えば、1.5m地点にある目印との距離が1mだったので、0.5m地点にいる確率みたいな。  \n",
    "移動モデル同様に距離の計測や現在地の信念も分布や偏りを持っているので確率密度関数で表現。  \n",
    "<br />\n",
    "<div style=\"text-align: center;\">\n",
    "$p(x)$ → $p(z|x)$ → $p(x|z)$\n",
    "</div>\n",
    "\n",
    "* ベイズの定理を用いて、信念の更新を数式で表現する。  \n",
    "\n",
    "$$\n",
    "p(x|z) = \\frac {p(z|x)p(x)}{\\int_{x' \\in \\chi }p(z|x')p(x')dx'} = \\eta p(z|x)p(x)\n",
    "$$\n",
    "\n",
    "* 離散の場合\n",
    "\n",
    "$$\n",
    "P(x|z) = \\eta P(z|x)P(x)\n",
    "$$"
   ]
  },
  {
   "cell_type": "markdown",
   "metadata": {},
   "source": [
    "### 教材その２  \n",
    "[確率ロボティクス入門第２回](https://www.slideshare.net/ryuichiueda/robot-frontier-lesson2)  \n",
    "\n",
    "### Monte Carlo localization[P8]  \n",
    "* MCLが有効な場面  \n",
    " * センサデータからロボットの状態を一意に定められない場合。  \n",
    " * ロボットが取りうる全ての状態においてシミュレーションすることが大変なとき。  \n",
    "<br />\n",
    "* MCLの手順\n",
    " * 有限個の位置姿勢を適当に導き、実際のロボットのセンサデータと照らし合わせて判断する。  \n",
    " * つまりパーティクル$\\xi$を配置し、パーティクルごとに重みを計算する。\n",
    "   * $\\xi^{(i)}_{t-1} = ($位置姿勢$,$重み$) = (x^{(i)}_{t-1},w^{(i)}_{t})$  \n",
    "<br />\n",
    " * 今回のセンサから得られるデータは、ロボットから見えるランドマークの距離と方向。  \n",
    "   * $z = ($距離$,$方向$) = (d,\\varphi)$  \n",
    "<br />\n",
    " * パーティクルから得られると予測されるセンサデータ$z'{}$と、実際に得られたセンサデータ$z$を比較し、尤度$p(z|x_t)$を計算する。\n",
    " \n",
    "$$\n",
    "p(z|x_t) \\propto \\frac {\\exp (- \\frac {1}{2\\sigma_d}(d-d')^2)}{\\sigma_d \\sqrt{2 \\pi}} \\frac {\\exp (- \\frac {1}{2\\sigma_\\varphi}(\\varphi-\\varphi')^2)}{\\sigma_\\varphi \\sqrt{2 \\pi}}\n",
    "$$\n",
    "\n",
    "   * 上記の式からわかるように、$z$と$z'$の差が小さいほど尤度は大きくなる。"
   ]
  },
  {
   "cell_type": "code",
   "execution_count": null,
   "metadata": {
    "collapsed": true
   },
   "outputs": [],
   "source": []
  }
 ],
 "metadata": {
  "kernelspec": {
   "display_name": "Python 3",
   "language": "python",
   "name": "python3"
  },
  "language_info": {
   "codemirror_mode": {
    "name": "ipython",
    "version": 3
   },
   "file_extension": ".py",
   "mimetype": "text/x-python",
   "name": "python",
   "nbconvert_exporter": "python",
   "pygments_lexer": "ipython3",
   "version": "3.6.1"
  }
 },
 "nbformat": 4,
 "nbformat_minor": 2
}
