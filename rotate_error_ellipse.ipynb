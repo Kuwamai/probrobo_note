{
 "cells": [
  {
   "cell_type": "markdown",
   "metadata": {},
   "source": [
    "# rotate_error_ellipse\n",
    "誤差楕円の回転がなぜ、共分散行列の両側から回転行列をかけているのかよくわからない。  \n",
    "なので実際に回してみるコードを書いてみた。  "
   ]
  },
  {
   "cell_type": "code",
   "execution_count": 11,
   "metadata": {
    "collapsed": true
   },
   "outputs": [],
   "source": [
    "%matplotlib inline\n",
    "import numpy as np\n",
    "import math\n",
    "import matplotlib.pyplot as plt\n",
    "from matplotlib.patches import Ellipse"
   ]
  },
  {
   "cell_type": "code",
   "execution_count": 12,
   "metadata": {
    "collapsed": true
   },
   "outputs": [],
   "source": [
    "class Error_ellipse:\n",
    "    def __init__(self, sigma_x = 1.0, sigma_y = 1.0, cov_xy = 0.0, mu_x = 0.0, mu_y = 0.0):\n",
    "        self.cov = np.array([[sigma_x, cov_xy], [cov_xy, sigma_y]])    # 分散共分散行列\n",
    "        self.mean = np.array([mu_x, mu_y]).T                           # 平均値(楕円の中央)\n",
    "        \n",
    "    def shift(self, delta, angle):\n",
    "        ca = math.cos(angle)\n",
    "        sa = math.sin(angle)\n",
    "        self.rot = np.array([[ca, sa],[-sa, ca]])    # 回転行列\n",
    "        \n",
    "        self.cov = self.rot.dot(self.cov).dot(self.rot.T)    # 回転\n",
    "        self.mean = self.mean + delta                        # 移動\n",
    "        \n",
    "    def draw(self):\n",
    "        eigen = np.linalg.eig(self.cov)    # eigenvalue\n",
    "        \n",
    "        v1 = eigen[0][0] * eigen[1][0]     # eigenvector\n",
    "        v2 = eigen[0][1] * eigen[1][1]\n",
    "        v1_direction = math.atan2(v1[1], v1[0])\n",
    "        \n",
    "        ellipse = Ellipse(self.mean, width=np.linalg.norm(v1), height=np.linalg.norm(v2), angle=v1_direction / 3.14 * 180)\n",
    "        ellipse.set_alpha(0.2)\n",
    "        \n",
    "        fig = plt.figure(0)\n",
    "        sp = fig.add_subplot(111, aspect='equal')\n",
    "        sp.add_artist(ellipse)\n",
    "        sp.set_xlim(-2.0, 2.0)\n",
    "        sp.set_ylim(-2.0, 2.0)\n",
    "        \n",
    "        plt.show()"
   ]
  },
  {
   "cell_type": "code",
   "execution_count": 13,
   "metadata": {},
   "outputs": [
    {
     "data": {
      "image/png": "[encoded data removed]",
      "text/plain": [
       "<matplotlib.figure.Figure at 0x1088f7da0>"
      ]
     },
     "metadata": {},
     "output_type": "display_data"
    }
   ],
   "source": [
    "p = Error_ellipse(1.0, 2.0, 0.0)\n",
    "p.draw()"
   ]
  },
  {
   "cell_type": "code",
   "execution_count": 14,
   "metadata": {},
   "outputs": [
    {
     "data": {
      "image/png": "[encoded data removed]",
      "text/plain": [
       "<matplotlib.figure.Figure at 0x108c47978>"
      ]
     },
     "metadata": {},
     "output_type": "display_data"
    }
   ],
   "source": [
    "p.shift([0.0, 0.0], math.pi / 4)  # 45度回転\n",
    "p.draw()"
   ]
  },
  {
   "cell_type": "markdown",
   "metadata": {},
   "source": [
    "共分散行列を回転させる部分を以下に抜き出してみた。  "
   ]
  },
  {
   "cell_type": "code",
   "execution_count": 15,
   "metadata": {},
   "outputs": [
    {
     "data": {
      "image/png": "[encoded data removed]",
      "text/plain": [
       "<matplotlib.figure.Figure at 0x108c0c160>"
      ]
     },
     "metadata": {},
     "output_type": "display_data"
    }
   ],
   "source": [
    "p.cov = p.rot.dot(p.cov).dot(p.rot.T)\n",
    "p.draw()"
   ]
  },
  {
   "cell_type": "markdown",
   "metadata": {},
   "source": [
    "試しに左側だけ掛けてみる。  \n",
    "虚数解が出たらしい。傾き22.5度の直線を軸に90度回転しているっぽい。  \n",
    "つまり右上が奥で左下が手前に向いている状況。  "
   ]
  },
  {
   "cell_type": "code",
   "execution_count": 16,
   "metadata": {},
   "outputs": [
    {
     "name": "stderr",
     "output_type": "stream",
     "text": [
      "/usr/local/lib/python3.6/site-packages/ipykernel_launcher.py:19: ComplexWarning: Casting complex values to real discards the imaginary part\n"
     ]
    },
    {
     "data": {
      "image/png": "[encoded data removed]",
      "text/plain": [
       "<matplotlib.figure.Figure at 0x1088f7518>"
      ]
     },
     "metadata": {},
     "output_type": "display_data"
    }
   ],
   "source": [
    "p.cov = p.rot.dot(p.cov)\n",
    "p.draw()"
   ]
  },
  {
   "cell_type": "markdown",
   "metadata": {},
   "source": [
    "当たり前だけど右側も掛けたらちゃんと回転した。  "
   ]
  },
  {
   "cell_type": "code",
   "execution_count": 17,
   "metadata": {},
   "outputs": [
    {
     "data": {
      "image/png": "[encoded data removed]",
      "text/plain": [
       "<matplotlib.figure.Figure at 0x108c04f60>"
      ]
     },
     "metadata": {},
     "output_type": "display_data"
    }
   ],
   "source": [
    "p.cov = p.cov.dot(p.rot.T)\n",
    "p.draw()"
   ]
  },
  {
   "cell_type": "markdown",
   "metadata": {},
   "source": [
    "転置した回転行列を左右入れ替えると逆回転した。  \n",
    "回転行列を転置することと、回転角を逆にするのは同じなので当然。  "
   ]
  },
  {
   "cell_type": "code",
   "execution_count": 18,
   "metadata": {},
   "outputs": [
    {
     "data": {
      "image/png": "[encoded data removed]",
      "text/plain": [
       "<matplotlib.figure.Figure at 0x108c04828>"
      ]
     },
     "metadata": {},
     "output_type": "display_data"
    }
   ],
   "source": [
    "p.cov = p.rot.T.dot(p.cov).dot(p.rot)\n",
    "p.draw()"
   ]
  },
  {
   "cell_type": "code",
   "execution_count": null,
   "metadata": {},
   "outputs": [],
   "source": []
  }
 ],
 "metadata": {
  "kernelspec": {
   "display_name": "Python 3",
   "language": "python",
   "name": "python3"
  },
  "language_info": {
   "codemirror_mode": {
    "name": "ipython",
    "version": 3
   },
   "file_extension": ".py",
   "mimetype": "text/x-python",
   "name": "python",
   "nbconvert_exporter": "python",
   "pygments_lexer": "ipython3",
   "version": "3.6.1"
  }
 },
 "nbformat": 4,
 "nbformat_minor": 2
}
